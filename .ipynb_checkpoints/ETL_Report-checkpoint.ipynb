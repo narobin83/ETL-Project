{
 "cells": [
  {
   "cell_type": "markdown",
   "metadata": {},
   "source": [
    "# ETL Report\n",
    "---\n",
    "\n",
    "## Extract\n",
    "\n",
    "We utilized two CSV files sourced from Kaggle.com at the following locations :\n",
    "\n",
    "1. [Rotten Tomatoes Top Movies](https://www.kaggle.com/fnunezsanchez/rotten-tomatoes-top-movies)\n",
    "2. [Academy Award Dataset](https://www.kaggle.com/dharmikdonga/academy-awards-dataset-oscars)\n",
    "\n",
    "---\n",
    "## Transform\n",
    "\n",
    "Data transformation was accomplished using Pandas. Both CSV files were read in as dataframes.\n",
    "\n",
    "For the Oscars\n",
    "\n",
    "---\n",
    "## Load\n",
    "\n",
    "###\n"
   ]
  },
  {
   "cell_type": "code",
   "execution_count": null,
   "metadata": {},
   "outputs": [],
   "source": [
    "* **E**xtract: your original data sources and how the data was formatted (CSV, JSON, pgAdmin 4, etc).\n",
    "​\n",
    "* **T**ransform: what data cleaning or transformation was required.\n",
    "​\n",
    "* **L**oad: the final database, tables/collections, and why this was chosen."
   ]
  }
 ],
 "metadata": {
  "kernelspec": {
   "display_name": "Python [conda env:PythonData] *",
   "language": "python",
   "name": "conda-env-PythonData-py"
  },
  "language_info": {
   "codemirror_mode": {
    "name": "ipython",
    "version": 3
   },
   "file_extension": ".py",
   "mimetype": "text/x-python",
   "name": "python",
   "nbconvert_exporter": "python",
   "pygments_lexer": "ipython3",
   "version": "3.6.10"
  }
 },
 "nbformat": 4,
 "nbformat_minor": 4
}
