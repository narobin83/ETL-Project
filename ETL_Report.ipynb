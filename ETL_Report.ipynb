{
 "cells": [
  {
   "cell_type": "markdown",
   "metadata": {},
   "source": [
    "# ETL Report\n",
    "\n",
    "    Group Members: Emi Lopez, Norman Robinson, Derek Toro\n",
    "---\n",
    "\n",
    "## Extract\n",
    "\n",
    "We utilized two CSV files sourced from Kaggle.com at the following locations :\n",
    "\n",
    "1. [Rotten Tomatoes Top Movies](https://www.kaggle.com/fnunezsanchez/rotten-tomatoes-top-movies)\n",
    "2. [Academy Award Dataset](https://www.kaggle.com/dharmikdonga/academy-awards-dataset-oscars)\n",
    "\n",
    "---\n",
    "## Transform\n",
    "\n",
    "Data transformation was accomplished using Pandas. Both CSV files were read in as dataframes.\n",
    "\n",
    "The Rotten Tomatoes was cleaned up by dropping unwanted columns. The FillNA function was used to replace null entires in the \"Rating\" column with message,\"No Data\".The Drop_Duplicates functionw as used to remove repeated entries.\n",
    "\n",
    "The Oscars dataframe was cleaned up by dropping several unwanted columns. Some entries in the Cateogory column were fully capitalized, so the Capitalize string method was used to modify them to be consistent with the rest of the entries. The names of some columns were changed using the Rename function; it was especially important to rename the \"film\" column to \"title\" in order to match with the corresponding column in the Rotten Tomatoes CSV for the table join. In addition, the DropNA function was used to removed entries will null values in the \"title\" column, and the Drop_Duplicates function was used to remove repeated entries.\n",
    "\n",
    "---\n",
    "## Load\n",
    "\n",
    "SQLAlchemy was used to bring the CSV files into an postreSQL database named \"movies_ETL\". The schema for two tables, \"oscars\" and \"rotten_tomatoes_data\", were coded ahead of time and loaded into the database via pgAdmin4. This type of database was chosen because it allowed for several fields of structured film data from as far back as the early 20th century to be joined on a particular common trait, i.e the title of the film. This made it very easy to inspect the data for possible interesting patterns, such as whether winning an Oscar might have some relationship to a film's critic or people score on Rotten Tomatoes.\n"
   ]
  }
 ],
 "metadata": {
  "kernelspec": {
   "display_name": "Python [conda env:PythonData] *",
   "language": "python",
   "name": "conda-env-PythonData-py"
  },
  "language_info": {
   "codemirror_mode": {
    "name": "ipython",
    "version": 3
   },
   "file_extension": ".py",
   "mimetype": "text/x-python",
   "name": "python",
   "nbconvert_exporter": "python",
   "pygments_lexer": "ipython3",
   "version": "3.6.10"
  }
 },
 "nbformat": 4,
 "nbformat_minor": 4
}
